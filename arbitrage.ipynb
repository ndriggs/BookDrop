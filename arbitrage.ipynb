{
 "cells": [
  {
   "cell_type": "code",
   "execution_count": 1,
   "metadata": {},
   "outputs": [],
   "source": [
    "import keepa\n",
    "import numpy as np\n",
    "import requests\n",
    "import matplotlib.pyplot as plt"
   ]
  },
  {
   "cell_type": "code",
   "execution_count": 2,
   "metadata": {},
   "outputs": [],
   "source": [
    "with open(\"api_key.txt\") as key_file :\n",
    "    api_key = key_file.readline().strip()\n",
    "api = keepa.Keepa(api_key)"
   ]
  },
  {
   "cell_type": "code",
   "execution_count": 9,
   "metadata": {},
   "outputs": [],
   "source": [
    "book_params = {\n",
    "    'deltaPercent7_USED_lte': -50,\n",
    "    'deltaPercent90_COUNT_USED_lte': 50,\n",
    "    'avg180_SALES_lte': 7000000,\n",
    "    'rootCategory': 283155\n",
    "}\n",
    "# don't include list price because there's no way to compare the list price with the used price at this point in the process\n",
    "# have Mark go through the other parameters and see if there's anything he thinks would also be helpful to include"
   ]
  },
  {
   "cell_type": "code",
   "execution_count": 10,
   "metadata": {},
   "outputs": [],
   "source": [
    "good_books = api.product_finder(book_params)"
   ]
  },
  {
   "cell_type": "code",
   "execution_count": 41,
   "metadata": {},
   "outputs": [],
   "source": [
    "test_params = {\n",
    "    'avg180_LISTPRICE_gte': 50,\n",
    "    'avg180_LISTPRICE_lte': 10000000,\n",
    "    'current_LISTPRICE_gte': 50,\n",
    "    'current_LISTPRICE_lte': 10000000,\n",
    "    'avg30_USED_gte': 12,\n",
    "    #'avg30_USED_lte': 1000000,\n",
    "    'current_USED_lte': 8,\n",
    "    'avg180_SALES_lte': 7000000,\n",
    "    'rootCategory': 283155\n",
    "}\n",
    "# won't give me more than 50 books, and they're all novels with used listings for just a few cents \n",
    "# and none of their list prices are over $50"
   ]
  },
  {
   "cell_type": "code",
   "execution_count": 42,
   "metadata": {},
   "outputs": [],
   "source": [
    "test2 = api.product_finder(test_params)"
   ]
  },
  {
   "cell_type": "code",
   "execution_count": 44,
   "metadata": {},
   "outputs": [],
   "source": [
    "params = {\n",
    "    'current_LISTPRICE_gte': 50,\n",
    "    'rootCategory': 283155\n",
    "}"
   ]
  },
  {
   "cell_type": "code",
   "execution_count": 45,
   "metadata": {},
   "outputs": [],
   "source": [
    "price = api.product_finder(params)"
   ]
  },
  {
   "cell_type": "code",
   "execution_count": 46,
   "metadata": {},
   "outputs": [
    {
     "data": {
      "text/plain": [
       "['B00N31ZJ0O',\n",
       " '0735219095',\n",
       " '1641526270',\n",
       " 'B07FSXPMHY',\n",
       " '1984801252',\n",
       " '0735224315',\n",
       " '0062820184',\n",
       " 'B07Z44CWFM',\n",
       " '0593192575',\n",
       " 'B07YNZTC68',\n",
       " 'B074F3BX79',\n",
       " '1338635174',\n",
       " 'B0844TK94Y',\n",
       " '0062841742',\n",
       " '3869931000',\n",
       " '0374300216',\n",
       " 'B07B3JQZCL',\n",
       " '014313566X',\n",
       " 'B07KKP62FW',\n",
       " 'B07NY9RLK1',\n",
       " 'B085LQ43LJ',\n",
       " '0385348711',\n",
       " 'B0731QJ482',\n",
       " '1641526378',\n",
       " 'B07RFSSYBH',\n",
       " '1641522631',\n",
       " 'B07Y2FCWTC',\n",
       " '1939754666',\n",
       " '1250209765',\n",
       " 'B07S84VPXK',\n",
       " '0399175210',\n",
       " 'B07NJCG1XS',\n",
       " '006282015X',\n",
       " 'B000R34YKC',\n",
       " '0794444903',\n",
       " 'B0006IU4C0',\n",
       " '1250301696',\n",
       " '0385545932',\n",
       " '0736440208',\n",
       " 'B0835YQDTQ',\n",
       " 'B01COR1GM2',\n",
       " '0761193642',\n",
       " '0143036491',\n",
       " '1492669733',\n",
       " '0062976583',\n",
       " 'B07RQ9LR1K',\n",
       " 'B008BUHTLE',\n",
       " '0545392551',\n",
       " '0399590501',\n",
       " 'B07JX7ZDJ3']"
      ]
     },
     "execution_count": 46,
     "metadata": {},
     "output_type": "execute_result"
    }
   ],
   "source": [
    "price"
   ]
  },
  {
   "cell_type": "code",
   "execution_count": null,
   "metadata": {},
   "outputs": [],
   "source": []
  }
 ],
 "metadata": {
  "kernelspec": {
   "display_name": "Python 3",
   "language": "python",
   "name": "python3"
  },
  "language_info": {
   "codemirror_mode": {
    "name": "ipython",
    "version": 3
   },
   "file_extension": ".py",
   "mimetype": "text/x-python",
   "name": "python",
   "nbconvert_exporter": "python",
   "pygments_lexer": "ipython3",
   "version": "3.6.9"
  }
 },
 "nbformat": 4,
 "nbformat_minor": 4
}
