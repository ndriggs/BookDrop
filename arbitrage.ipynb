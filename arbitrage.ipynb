{
 "cells": [
  {
   "cell_type": "code",
   "execution_count": 1,
   "metadata": {},
   "outputs": [],
   "source": [
    "import keepa\n",
    "import numpy as np\n",
    "import requests\n",
    "import matplotlib.pyplot as plt\n",
    "import datetime\n",
    "from dateutil.relativedelta import relativedelta"
   ]
  },
  {
   "cell_type": "code",
   "execution_count": 2,
   "metadata": {},
   "outputs": [],
   "source": [
    "with open(\"api_key.txt\") as key_file :\n",
    "    api_key = key_file.readline().strip()\n",
    "api = keepa.Keepa(api_key)"
   ]
  },
  {
   "cell_type": "code",
   "execution_count": 37,
   "metadata": {},
   "outputs": [],
   "source": [
    "# do a product search to filter out books that may be good to look at\n",
    "book_params = {\n",
    "    'deltaPercent30_USED_gte': 20,\n",
    "    'deltaPercent30_USED_lte': 99,\n",
    "    'deltaPercent90_COUNT_USED_gte': -50,\n",
    "    'deltaPercent90_COUNT_USED_lte': 99,\n",
    "    'avg180_SALES_gte': 0,\n",
    "    'avg180_SALES_lte': 7000000,\n",
    "    'rootCategory': 283155\n",
    "}\n",
    "# don't include list price because there's no way to compare the list price with the used price at this point in the process\n",
    "# have Mark go through the other parameters and see if there's anything he thinks would also be helpful to include"
   ]
  },
  {
   "cell_type": "code",
   "execution_count": 30,
   "metadata": {},
   "outputs": [],
   "source": [
    "test_params = {\n",
    "    \"avg180_SALES_gte\": 0,\n",
    "    \"avg180_SALES_lte\": 10100,\n",
    "    #\"current_USED_gte\": 0,\n",
    "    #\"current_USED_lte\": 749,\n",
    "    #\"avg30_USED_gte\": 1200,\n",
    "    #\"avg30_USED_lte\": 1000000000,\n",
    "    #\"current_LISTPRICE_gte\": 5000,\n",
    "    #\"current_LISTPRICE_lte\": 100000000,\n",
    "    #\"avg180_LISTPRICE_gte\": 5000,\n",
    "    #\"avg180_LISTPRICE_lte\": 100000000,\n",
    "    \"rootCategory\": 283155,\n",
    "    \"perPage\": 10000000\n",
    "}"
   ]
  },
  {
   "cell_type": "code",
   "execution_count": 31,
   "metadata": {},
   "outputs": [
    {
     "ename": "Exception",
     "evalue": "REQUEST_REJECTED",
     "output_type": "error",
     "traceback": [
      "\u001b[0;31m---------------------------------------------------------------------------\u001b[0m",
      "\u001b[0;31mException\u001b[0m                                 Traceback (most recent call last)",
      "\u001b[0;32m<ipython-input-31-f507d33f5a5a>\u001b[0m in \u001b[0;36m<module>\u001b[0;34m\u001b[0m\n\u001b[0;32m----> 1\u001b[0;31m \u001b[0mtest\u001b[0m \u001b[0;34m=\u001b[0m \u001b[0mapi\u001b[0m\u001b[0;34m.\u001b[0m\u001b[0mproduct_finder\u001b[0m\u001b[0;34m(\u001b[0m\u001b[0mtest_params\u001b[0m\u001b[0;34m)\u001b[0m\u001b[0;34m\u001b[0m\u001b[0;34m\u001b[0m\u001b[0m\n\u001b[0m",
      "\u001b[0;32m/mnt/c/Users/natha/Documents/TourdeFinance/trading_env/lib/python3.6/site-packages/keepa/interface.py\u001b[0m in \u001b[0;36mproduct_finder\u001b[0;34m(self, product_parms, domain)\u001b[0m\n\u001b[1;32m   1889\u001b[0m                    'selection': json.dumps(product_parms)}\n\u001b[1;32m   1890\u001b[0m \u001b[0;34m\u001b[0m\u001b[0m\n\u001b[0;32m-> 1891\u001b[0;31m         \u001b[0mresponse\u001b[0m \u001b[0;34m=\u001b[0m \u001b[0mself\u001b[0m\u001b[0;34m.\u001b[0m\u001b[0m_request\u001b[0m\u001b[0;34m(\u001b[0m\u001b[0;34m'query'\u001b[0m\u001b[0;34m,\u001b[0m \u001b[0mpayload\u001b[0m\u001b[0;34m)\u001b[0m\u001b[0;34m\u001b[0m\u001b[0;34m\u001b[0m\u001b[0m\n\u001b[0m\u001b[1;32m   1892\u001b[0m         \u001b[0;32mreturn\u001b[0m \u001b[0mresponse\u001b[0m\u001b[0;34m[\u001b[0m\u001b[0;34m'asinList'\u001b[0m\u001b[0;34m]\u001b[0m\u001b[0;34m\u001b[0m\u001b[0;34m\u001b[0m\u001b[0m\n\u001b[1;32m   1893\u001b[0m \u001b[0;34m\u001b[0m\u001b[0m\n",
      "\u001b[0;32m/mnt/c/Users/natha/Documents/TourdeFinance/trading_env/lib/python3.6/site-packages/keepa/interface.py\u001b[0m in \u001b[0;36m_request\u001b[0;34m(self, request_type, payload, wait)\u001b[0m\n\u001b[1;32m   1911\u001b[0m                         \u001b[0;32mcontinue\u001b[0m\u001b[0;34m\u001b[0m\u001b[0;34m\u001b[0m\u001b[0m\n\u001b[1;32m   1912\u001b[0m                     \u001b[0;32melse\u001b[0m\u001b[0;34m:\u001b[0m\u001b[0;34m\u001b[0m\u001b[0;34m\u001b[0m\u001b[0m\n\u001b[0;32m-> 1913\u001b[0;31m                         \u001b[0;32mraise\u001b[0m \u001b[0mException\u001b[0m\u001b[0;34m(\u001b[0m\u001b[0mSCODES\u001b[0m\u001b[0;34m[\u001b[0m\u001b[0mstatus_code\u001b[0m\u001b[0;34m]\u001b[0m\u001b[0;34m)\u001b[0m\u001b[0;34m\u001b[0m\u001b[0;34m\u001b[0m\u001b[0m\n\u001b[0m\u001b[1;32m   1914\u001b[0m                 \u001b[0;32melse\u001b[0m\u001b[0;34m:\u001b[0m\u001b[0;34m\u001b[0m\u001b[0;34m\u001b[0m\u001b[0m\n\u001b[1;32m   1915\u001b[0m                     \u001b[0;32mraise\u001b[0m \u001b[0mException\u001b[0m\u001b[0;34m(\u001b[0m\u001b[0;34m'REQUEST_FAILED'\u001b[0m\u001b[0;34m)\u001b[0m\u001b[0;34m\u001b[0m\u001b[0;34m\u001b[0m\u001b[0m\n",
      "\u001b[0;31mException\u001b[0m: REQUEST_REJECTED"
     ]
    }
   ],
   "source": [
    "test = api.product_finder(test_params)"
   ]
  },
  {
   "cell_type": "code",
   "execution_count": 16,
   "metadata": {},
   "outputs": [
    {
     "data": {
      "text/plain": [
       "765"
      ]
     },
     "execution_count": 16,
     "metadata": {},
     "output_type": "execute_result"
    }
   ],
   "source": [
    "len(test)"
   ]
  },
  {
   "cell_type": "code",
   "execution_count": 42,
   "metadata": {},
   "outputs": [],
   "source": [
    "test2 = api.product_finder(test_params)"
   ]
  },
  {
   "cell_type": "code",
   "execution_count": 6,
   "metadata": {},
   "outputs": [
    {
     "name": "stderr",
     "output_type": "stream",
     "text": [
      "100%|██████████| 50/50 [00:06<00:00,  7.20it/s]\n"
     ]
    }
   ],
   "source": [
    "# now call the api to get the data on all these books\n",
    "book_data = api.query(good_books)"
   ]
  },
  {
   "cell_type": "code",
   "execution_count": 4,
   "metadata": {},
   "outputs": [
    {
     "name": "stderr",
     "output_type": "stream",
     "text": [
      "100%|██████████| 1/1 [00:02<00:00,  2.73s/it]\n"
     ]
    }
   ],
   "source": [
    "linalg = api.query('032198238X')"
   ]
  },
  {
   "cell_type": "code",
   "execution_count": 82,
   "metadata": {},
   "outputs": [
    {
     "name": "stdout",
     "output_type": "stream",
     "text": [
      " 2018-07-11 07:02:00   $1445675.00\n",
      " 2018-07-11 08:40:00   $1446624.00\n",
      " 2018-07-11 09:32:00   $1445329.00\n",
      " 2018-07-11 11:12:00   $1444317.00\n",
      " 2018-07-11 13:44:00   $1441329.00\n",
      " 2018-07-11 14:44:00   $1441405.00\n",
      " 2018-07-11 16:24:00   $1441006.00\n",
      " 2018-07-11 18:00:00   $1443836.00\n",
      " 2018-07-11 18:50:00   $1445108.00\n",
      " 2018-07-11 20:34:00   $1450104.00\n",
      " 2018-07-11 22:12:00   $1451508.00\n",
      " 2018-07-11 23:52:00   $1456506.00\n",
      " 2018-07-12 00:44:00   $1457689.00\n",
      " 2018-07-12 02:20:00   $1461623.00\n",
      " 2018-07-12 04:00:00   $1462723.00\n",
      " 2018-07-12 06:48:00   $1467303.00\n",
      " 2018-07-12 08:26:00   $1468435.00\n",
      " 2018-07-12 10:06:00   $1467406.00\n",
      " 2018-07-12 11:46:00   $1466610.00\n",
      " 2018-07-12 13:26:00   $1464991.00\n",
      " 2018-07-12 14:22:00   $1464457.00\n",
      " 2018-07-12 15:56:00   $1463636.00\n",
      " 2018-07-12 17:52:00   $1466331.00\n",
      " 2018-07-12 20:28:00   $1472014.00\n",
      " 2018-07-12 22:04:00   $1473343.00\n",
      " 2018-07-12 23:44:00   $1477961.00\n",
      " 2018-07-13 01:28:00   $1479179.00\n",
      " 2018-07-13 03:04:00   $1482658.00\n",
      " 2018-07-13 03:56:00   $1483693.00\n",
      " 2018-07-13 05:36:00   $1487324.00\n",
      " 2018-07-13 07:16:00   $1487828.00\n",
      " 2018-07-13 08:56:00   $1488989.00\n",
      " 2018-07-13 09:44:00   $1488222.00\n",
      " 2018-07-13 12:32:00   $1487610.00\n",
      " 2018-07-13 13:20:00   $1486203.00\n",
      " 2018-07-13 14:12:00   $1485871.00\n",
      " 2018-07-13 15:50:00   $1485146.00\n",
      " 2018-07-13 17:32:00   $1487797.00\n",
      " 2018-07-13 19:12:00   $1488583.00\n",
      " 2018-07-13 21:42:00   $1492662.00\n",
      " 2018-07-13 22:32:00   $1493473.00\n",
      " 2018-07-14 00:10:00   $1497091.00\n",
      " 2018-07-14 01:00:00   $1497822.00\n",
      " 2018-07-14 02:40:00   $1500835.00\n",
      " 2018-07-14 04:20:00   $1501208.00\n",
      " 2018-07-14 06:00:00   $1503732.00\n",
      " 2018-07-14 06:50:00   $1503767.00\n",
      " 2018-07-14 08:32:00   $1504764.00\n",
      " 2018-07-14 10:12:00   $1503794.00\n",
      " 2018-07-14 11:50:00   $1503377.00\n",
      " 2018-07-14 12:40:00   $1502029.00\n",
      " 2018-07-14 14:20:00   $1501373.00\n",
      " 2018-07-14 16:00:00   $1500473.00\n",
      " 2018-07-14 17:40:00   $1501980.00\n",
      " 2018-07-14 18:30:00   $1502069.00\n",
      " 2018-07-14 20:10:00   $1504918.00\n",
      " 2018-07-14 21:52:00   $1505026.00\n",
      " 2018-07-14 23:32:00   $1508354.00\n",
      " 2018-07-15 01:10:00   $1508385.00\n",
      " 2018-07-15 02:00:00   $1511025.00\n",
      " 2018-07-15 03:40:00   $1510976.00\n",
      " 2018-07-15 05:20:00   $1513477.00\n",
      " 2018-07-15 07:08:00   $1513302.00\n",
      " 2018-07-15 08:40:00   $1514011.00\n",
      " 2018-07-15 10:20:00   $1513076.00\n",
      " 2018-07-15 11:12:00   $1512571.00\n",
      " 2018-07-15 14:52:00   $1510838.00\n",
      " 2018-07-15 15:36:00   $1510177.00\n",
      " 2018-07-15 17:16:00   $1511691.00\n",
      " 2018-07-15 19:00:00   $1512020.00\n",
      " 2018-07-15 20:36:00   $1514857.00\n",
      " 2018-07-15 22:16:00   $1515524.00\n",
      " 2018-07-15 23:56:00   $1518649.00\n",
      " 2018-07-16 00:50:00   $1519416.00\n",
      " 2018-07-16 02:26:00   $1522630.00\n",
      " 2018-07-16 04:04:00   $1523292.00\n",
      " 2018-07-16 05:48:00   $1526442.00\n",
      " 2018-07-16 07:32:00   $1526490.00\n",
      " 2018-07-16 08:20:00   $1527610.00\n",
      " 2018-07-16 10:08:00   $1526707.00\n",
      " 2018-07-16 12:44:00   $1524778.00\n",
      " 2018-07-16 14:24:00   $1524720.00\n",
      " 2018-07-16 17:16:00   $1524690.00\n",
      " 2018-07-16 18:12:00   $1527887.00\n",
      " 2018-07-16 19:20:00   $1529681.00\n",
      " 2018-07-16 20:20:00   $1534917.00\n",
      " 2018-07-16 21:38:00   $1536834.00\n",
      " 2018-07-16 23:14:00   $1542128.00\n",
      " 2018-07-17 01:56:00   $1543246.00\n",
      " 2018-07-17 03:24:00   $1547079.00\n",
      " 2018-07-17 04:44:00   $1548365.00\n",
      " 2018-07-17 07:00:00   $1556335.00\n",
      " 2018-07-17 08:56:00   $1558667.00\n",
      " 2018-07-17 10:24:00   $1557766.00\n",
      " 2018-07-17 12:34:00   $1556603.00\n",
      " 2018-07-17 14:34:00   $1556017.00\n",
      " 2018-07-17 15:48:00   $1555829.00\n",
      " 2018-07-17 17:58:00   $1559859.00\n",
      " 2018-07-17 19:02:00   $1562092.00\n",
      " 2018-07-17 20:48:00   $1567195.00\n",
      " 2018-07-18 00:12:00   $1574904.00\n",
      " 2018-07-18 01:00:00   $1575904.00\n",
      " 2018-07-18 02:38:00   $1580967.00\n",
      " 2018-07-18 04:20:00   $1581983.00\n",
      " 2018-07-18 05:58:00   $1585238.00\n",
      " 2018-07-18 06:48:00   $1586378.00\n",
      " 2018-07-18 09:24:00   $1587838.00\n",
      " 2018-07-18 10:12:00   $1586817.00\n",
      " 2018-07-18 11:50:00   $1585643.00\n",
      " 2018-07-18 13:30:00   $1583714.00\n",
      " 2018-07-18 14:20:00   $1583310.00\n",
      " 2018-07-18 16:00:00   $1582776.00\n",
      " 2018-07-18 17:40:00   $1585081.00\n",
      " 2018-07-18 19:20:00   $1585707.00\n",
      " 2018-07-18 20:10:00   $1590784.00\n",
      " 2018-07-18 21:50:00   $1592059.00\n",
      " 2018-07-19 00:32:00   $1597203.00\n",
      " 2018-07-19 02:16:00   $1599792.00\n",
      " 2018-07-19 03:56:00   $1600124.00\n",
      " 2018-07-19 05:36:00   $1602532.00\n",
      " 2018-07-19 08:04:00   $1601839.00\n",
      " 2018-07-19 08:58:00   $1602682.00\n",
      " 2018-07-19 09:46:00   $1601396.00\n",
      " 2018-07-19 12:16:00   $1600004.00\n",
      " 2018-07-19 13:08:00   $1598069.00\n",
      " 2018-07-19 14:48:00   $1597186.00\n",
      " 2018-07-19 16:28:00   $1596311.00\n",
      " 2018-07-19 17:16:00   $1598487.00\n",
      " 2018-07-19 18:56:00   $1599142.00\n",
      " 2018-07-19 20:36:00   $1603291.00\n",
      " 2018-07-19 22:16:00   $1604582.00\n",
      " 2018-07-20 00:48:00   $1609720.00\n",
      " 2018-07-20 02:28:00   $1612314.00\n",
      " 2018-07-20 04:56:00   $1612436.00\n",
      " 2018-07-20 05:48:00   $1614874.00\n",
      " 2018-07-20 06:36:00   $1614369.00\n",
      " 2018-07-20 09:08:00   $1614490.00\n",
      " 2018-07-20 09:56:00   $1612939.00\n",
      " 2018-07-20 12:28:00   $1609505.00\n",
      " 2018-07-20 14:56:00   $1608575.00\n",
      " 2018-07-20 15:48:00   $1607415.00\n",
      " 2018-07-20 17:28:00   $1609350.00\n",
      " 2018-07-20 19:08:00   $1610085.00\n",
      " 2018-07-20 20:48:00   $1613843.00\n",
      " 2018-07-20 21:36:00   $1614689.00\n",
      " 2018-07-20 23:16:00   $1618490.00\n",
      " 2018-07-21 00:58:00   $1618943.00\n",
      " 2018-07-21 02:40:00   $1621531.00\n",
      " 2018-07-21 04:16:00   $1621622.00\n",
      " 2018-07-21 05:56:00   $1623519.00\n",
      " 2018-07-21 06:48:00   $1622883.00\n",
      " 2018-07-21 08:28:00   $1622501.00\n",
      " 2018-07-21 10:10:00   $1620961.00\n",
      " 2018-07-21 11:54:00   $1619675.00\n",
      " 2018-07-21 12:40:00   $1617755.00\n",
      " 2018-07-21 14:20:00   $1616537.00\n",
      " 2018-07-21 16:00:00   $1615072.00\n",
      " 2018-07-21 17:40:00   $1616116.00\n",
      " 2018-07-21 19:20:00   $1616020.00\n",
      " 2018-07-21 20:12:00   $1618255.00\n",
      " 2018-07-21 22:40:00   $1618473.00\n",
      " 2018-07-21 23:32:00   $1621045.00\n",
      " 2018-07-22 01:12:00   $1621666.00\n",
      " 2018-07-22 02:00:00   $1624178.00\n",
      " 2018-07-22 04:32:00   $1624450.00\n",
      " 2018-07-22 06:12:00   $1626478.00\n",
      " 2018-07-22 07:08:00   $1625958.00\n",
      " 2018-07-22 08:40:00   $1625820.00\n",
      " 2018-07-22 11:30:00   $1624243.00\n",
      " 2018-07-22 12:12:00   $1621795.00\n",
      " 2018-07-22 13:04:00   $1620244.00\n",
      " 2018-07-22 14:46:00   $1619186.00\n",
      " 2018-07-22 15:36:00   $1617908.00\n",
      " 2018-07-22 17:16:00   $1618355.00\n",
      " 2018-07-22 18:56:00   $1618349.00\n",
      " 2018-07-22 20:36:00   $1620943.00\n",
      " 2018-07-22 22:16:00   $1621127.00\n",
      " 2018-07-22 23:56:00   $1624347.00\n",
      " 2018-07-23 00:46:00   $1624995.00\n",
      " 2018-07-23 02:26:00   $1628237.00\n",
      " 2018-07-23 04:06:00   $1628651.00\n",
      " 2018-07-23 05:46:00   $1632396.00\n",
      " 2018-07-23 07:26:00   $1632558.00\n",
      " 2018-07-23 08:16:00   $1633308.00\n",
      " 2018-07-23 09:56:00   $1632238.00\n",
      " 2018-07-23 11:38:00   $1631186.00\n",
      " 2018-07-23 13:16:00   $1629426.00\n",
      " 2018-07-23 14:56:00   $1628584.00\n",
      " 2018-07-23 15:44:00   $1627557.00\n",
      " 2018-07-23 17:26:00   $1629815.00\n",
      " 2018-07-23 20:12:00   $1630418.00\n",
      " 2018-07-23 21:04:00   $1634745.00\n",
      " 2018-07-23 21:52:00   $1635956.00\n",
      " 2018-07-23 23:30:00   $1640354.00\n",
      " 2018-07-24 01:12:00   $1641271.00\n",
      " 2018-07-24 03:42:00   $1644194.00\n",
      " 2018-07-24 04:32:00   $1645446.00\n",
      " 2018-07-24 06:12:00   $1648921.00\n",
      " 2018-07-24 07:04:00   $1649794.00\n",
      " 2018-07-24 09:32:00   $1650842.00\n",
      " 2018-07-24 10:22:00   $1649837.00\n",
      " 2018-07-24 11:14:00   $1648983.00\n",
      " 2018-07-24 12:54:00   $1647533.00\n",
      " 2018-07-24 15:28:00   $1646871.00\n",
      " 2018-07-24 16:16:00   $1645952.00\n",
      " 2018-07-24 17:56:00   $1648361.00\n",
      " 2018-07-24 18:48:00   $1648806.00\n",
      " 2018-07-24 20:28:00   $1650369.00\n",
      " 2018-07-24 23:48:00   $1657304.00\n",
      " 2018-07-25 01:28:00   $1657785.00\n",
      " 2018-07-25 02:16:00   $1661315.00\n",
      " 2018-07-25 05:36:00   $1665019.00\n",
      " 2018-07-25 07:16:00   $1665054.00\n",
      " 2018-07-25 08:08:00   $1666142.00\n",
      " 2018-07-25 09:48:00   $1664993.00\n",
      " 2018-07-25 11:32:00   $1663696.00\n",
      " 2018-07-25 13:12:00   $1662057.00\n",
      " 2018-07-25 15:04:00   $1660517.00\n",
      " 2018-07-25 16:40:00   $1659629.00\n",
      " 2018-07-25 17:30:00   $1662010.00\n",
      " 2018-07-25 19:08:00   $1662153.00\n",
      " 2018-07-25 20:50:00   $1665357.00\n",
      " 2018-07-25 22:28:00   $1666114.00\n",
      " 2018-07-25 23:20:00   $1669742.00\n",
      " 2018-07-26 01:00:00   $1670161.00\n",
      " 2018-07-26 02:40:00   $1672439.00\n",
      " 2018-07-26 05:20:00   $1674669.00\n",
      " 2018-07-26 06:48:00   $1674440.00\n",
      " 2018-07-26 08:30:00   $1674954.00\n",
      " 2018-07-26 10:08:00   $1673681.00\n",
      " 2018-07-26 11:52:00   $1672654.00\n",
      " 2018-07-26 13:38:00   $1669741.00\n",
      " 2018-07-26 14:24:00   $1669817.00\n",
      " 2018-07-26 16:56:00   $1668388.00\n",
      " 2018-07-26 17:46:00   $1670519.00\n",
      " 2018-07-26 18:36:00   $1670417.00\n",
      " 2018-07-26 20:20:00   $1673224.00\n",
      " 2018-07-26 22:00:00   $1672423.00\n",
      " 2018-07-26 23:48:00   $1676153.00\n",
      " 2018-07-27 01:16:00   $1676052.00\n",
      " 2018-07-27 02:08:00   $1677520.00\n",
      " 2018-07-27 03:48:00   $1677135.00\n",
      " 2018-07-27 05:28:00   $1679425.00\n",
      " 2018-07-27 07:56:00   $1678562.00\n",
      " 2018-07-27 08:48:00   $1678779.00\n",
      " 2018-07-27 10:28:00   $1677256.00\n",
      " 2018-07-27 11:16:00   $1675870.00\n",
      " 2018-07-27 13:04:00   $1674072.00\n",
      " 2018-07-27 14:52:00   $1673177.00\n",
      " 2018-07-27 15:36:00   $1671906.00\n",
      " 2018-07-27 17:16:00   $1673582.00\n",
      " 2018-07-27 18:58:00   $1673847.00\n",
      " 2018-07-27 20:44:00   $1676591.00\n",
      " 2018-07-27 22:26:00   $1676959.00\n",
      " 2018-07-27 23:16:00   $1679690.00\n",
      " 2018-07-28 00:56:00   $1679824.00\n",
      " 2018-07-28 02:36:00   $1681504.00\n",
      " 2018-07-28 04:16:00   $1680962.00\n",
      " 2018-07-28 05:56:00   $1681649.00\n",
      " 2018-07-28 07:38:00   $1681199.00\n",
      " 2018-07-28 08:26:00   $1681069.00\n",
      " 2018-07-28 10:08:00   $1679639.00\n",
      " 2018-07-28 12:40:00   $1678441.00\n",
      " 2018-07-28 14:18:00   $1675278.00\n",
      " 2018-07-28 16:00:00   $1674128.00\n",
      " 2018-07-28 17:36:00   $1675100.00\n",
      " 2018-07-28 19:18:00   $1674629.00\n",
      " 2018-07-28 20:08:00   $1676908.00\n",
      " 2018-07-28 23:02:00   $1676711.00\n",
      " 2018-07-28 23:44:00   $1678664.00\n",
      " 2018-07-29 01:16:00   $1678721.00\n",
      " 2018-07-29 02:56:00   $1679777.00\n",
      " 2018-07-29 03:48:00   $1679370.00\n",
      " 2018-07-29 05:28:00   $1679205.00\n",
      " 2018-07-29 07:56:00   $1679773.00\n",
      " 2018-07-29 08:52:00   $1679929.00\n",
      " 2018-07-29 10:28:00   $1678319.00\n",
      " 2018-07-29 12:16:00   $1677265.00\n",
      " 2018-07-29 13:56:00   $1674741.00\n",
      " 2018-07-29 14:46:00   $1674147.00\n",
      " 2018-07-29 15:36:00   $1673045.00\n",
      " 2018-07-29 17:16:00   $1674068.00\n",
      " 2018-07-29 18:56:00   $1673548.00\n",
      " 2018-07-29 20:36:00   $1675392.00\n",
      " 2018-07-29 22:16:00   $1675474.00\n",
      " 2018-07-29 23:56:00   $1678023.00\n",
      " 2018-07-30 00:48:00   $1678076.00\n",
      " 2018-07-30 02:26:00   $1680610.00\n",
      " 2018-07-30 04:56:00   $1680327.00\n",
      " 2018-07-30 05:48:00   $1683219.00\n",
      " 2018-07-30 07:26:00   $1682643.00\n",
      " 2018-07-30 08:16:00   $1683238.00\n",
      " 2018-07-30 09:56:00   $1681726.00\n",
      " 2018-07-30 12:28:00   $1678717.00\n",
      " 2018-07-30 15:00:00   $1678053.00\n",
      " 2018-07-30 15:52:00   $1676874.00\n",
      " 2018-07-30 18:20:00   $1679608.00\n",
      " 2018-07-30 20:00:00   $1676596.00\n",
      " 2018-07-30 21:40:00   $1686125.00\n",
      " 2018-07-30 23:20:00   $1686790.00\n",
      " 2018-07-31 01:00:00   $1690895.00\n",
      " 2018-07-31 01:50:00   $1691505.00\n",
      " 2018-07-31 03:30:00   $1694823.00\n",
      " 2018-07-31 05:10:00   $1695006.00\n",
      " 2018-07-31 06:50:00   $1697565.00\n",
      " 2018-07-31 08:30:00   $1696678.00\n",
      " 2018-07-31 09:22:00   $1696916.00\n",
      " 2018-07-31 11:06:00   $1695284.00\n",
      " 2018-07-31 12:12:00   $1693995.00\n",
      " 2018-07-31 14:38:00   $1692397.00\n",
      " 2018-07-31 15:28:00   $1692408.00\n",
      " 2018-07-31 17:08:00   $1693004.00\n",
      " 2018-07-31 18:48:00   $1696735.00\n",
      " 2018-07-31 20:28:00   $1697735.00\n",
      " 2018-07-31 22:58:00   $1702956.00\n",
      " 2018-08-01 00:36:00   $1706678.00\n",
      " 2018-08-01 02:18:00   $1707653.00\n",
      " 2018-08-01 04:28:00   $1710658.00\n",
      " 2018-08-01 05:00:00   $1710840.00\n",
      " 2018-08-01 06:42:00   $1713084.00\n",
      " 2018-08-01 07:32:00   $1712225.00\n",
      " 2018-08-01 10:04:00   $1711484.00\n",
      " 2018-08-01 10:56:00   $1709794.00\n",
      " 2018-08-01 12:38:00   $1708993.00\n",
      " 2018-08-01 13:36:00   $1707262.00\n",
      " 2018-08-01 15:32:00   $1707615.00\n",
      " 2018-08-01 17:12:00   $1707575.00\n",
      " 2018-08-01 18:50:00   $1711439.00\n",
      " 2018-08-01 20:30:00   $1711938.00\n",
      " 2018-08-01 21:22:00   $1716699.00\n",
      " 2018-08-01 23:00:00   $1717859.00\n",
      " 2018-08-02 00:40:00   $1721999.00\n",
      " 2018-08-02 02:22:00   $1722340.00\n",
      " 2018-08-02 04:00:00   $1724503.00\n",
      " 2018-08-02 04:52:00   $1724269.00\n",
      " 2018-08-02 06:32:00   $1726878.00\n",
      " 2018-08-02 08:12:00   $1725914.00\n",
      " 2018-08-02 09:56:00   $1725345.00\n",
      " 2018-08-02 10:46:00   $1723203.00\n",
      " 2018-08-02 13:16:00   $1721051.00\n",
      " 2018-08-02 14:06:00   $1719527.00\n",
      " 2018-08-02 16:52:00   $1718852.00\n",
      " 2018-08-02 19:22:00   $1722171.00\n",
      " 2018-08-02 20:12:00   $1723073.00\n",
      " 2018-08-02 21:52:00   $1727318.00\n",
      " 2018-08-02 23:32:00   $1728176.00\n",
      " 2018-08-03 00:22:00   $1729995.00\n",
      " 2018-08-03 02:02:00   $1729828.00\n",
      " 2018-08-03 03:42:00   $1731589.00\n",
      " 2018-08-03 05:22:00   $1731417.00\n",
      " 2018-08-03 06:12:00   $1732486.00\n",
      " 2018-08-03 07:52:00   $1731165.00\n",
      " 2018-08-03 10:22:00   $1729989.00\n",
      " 2018-08-03 11:12:00   $1728190.00\n",
      " 2018-08-03 12:52:00   $1726524.00\n",
      " 2018-08-03 13:42:00   $1724637.00\n",
      " 2018-08-03 15:22:00   $1724420.00\n",
      " 2018-08-03 17:02:00   $1724257.00\n",
      " 2018-08-03 18:44:00   $1728073.00\n",
      " 2018-08-03 20:24:00   $1732130.00\n",
      " 2018-08-03 22:04:00   $1735839.00\n",
      " 2018-08-03 23:42:00   $1737237.00\n",
      " 2018-08-04 00:32:00   $1740757.00\n",
      " 2018-08-04 02:12:00   $1740570.00\n",
      " 2018-08-04 04:42:00   $1741981.00\n",
      " 2018-08-04 06:22:00   $1742620.00\n",
      " 2018-08-04 08:04:00   $1741324.00\n",
      " 2018-08-04 11:16:00   $1738333.00\n",
      " 2018-08-04 12:40:00   $1736290.00\n",
      " 2018-08-04 13:38:00   $1734094.00\n",
      " 2018-08-04 16:04:00   $1733553.00\n",
      " 2018-08-04 17:04:00   $1732608.00\n",
      " 2018-08-04 18:48:00   $1734398.00\n",
      " 2018-08-04 20:30:00   $1734597.00\n",
      " 2018-08-04 21:20:00   $1737530.00\n",
      " 2018-08-04 23:00:00   $1737417.00\n",
      " 2018-08-05 00:42:00   $1740140.00\n",
      " 2018-08-05 02:20:00   $1739697.00\n",
      " 2018-08-05 03:18:00   $1741241.00\n",
      " 2018-08-05 05:00:00   $1740616.00\n",
      " 2018-08-05 06:40:00   $1741568.00\n",
      " 2018-08-05 08:20:00   $1740506.00\n",
      " 2018-08-05 10:02:00   $1739283.00\n",
      " 2018-08-05 10:52:00   $1737477.00\n",
      " 2018-08-05 13:28:00   $1735356.00\n",
      " 2018-08-05 14:20:00   $1733249.00\n",
      " 2018-08-05 16:00:00   $1732426.00\n",
      " 2018-08-05 16:46:00   $1731262.00\n",
      " 2018-08-05 18:32:00   $1732745.00\n",
      " 2018-08-05 20:12:00   $1732654.00\n",
      " 2018-08-05 21:52:00   $1735474.00\n",
      " 2018-08-05 22:40:00   $1736117.00\n",
      " 2018-08-06 00:24:00   $1738781.00\n",
      " 2018-08-06 02:04:00   $1738864.00\n",
      " 2018-08-06 03:40:00   $1741199.00\n",
      " 2018-08-06 05:24:00   $1740906.00\n",
      " 2018-08-06 07:04:00   $1742735.00\n",
      " 2018-08-06 07:52:00   $1742235.00\n",
      " 2018-08-06 09:32:00   $1741434.00\n",
      " 2018-08-06 11:10:00   $1739378.00\n",
      " 2018-08-06 12:52:00   $1737789.00\n",
      " 2018-08-06 14:36:00   $1735631.00\n",
      " 2018-08-06 15:28:00   $1735052.00\n",
      " 2018-08-06 19:16:00   $1738170.00\n",
      " 2018-08-06 21:06:00   $1739053.00\n",
      " 2018-08-06 21:56:00   $1743788.00\n",
      " 2018-08-06 22:54:00   $1745172.00\n",
      " 2018-08-07 00:40:00   $1749175.00\n",
      " 2018-08-07 01:32:00   $1749983.00\n",
      " 2018-08-07 03:20:00   $1753047.00\n",
      " 2018-08-07 05:04:00   $1753497.00\n",
      " 2018-08-07 06:48:00   $1756087.00\n",
      " 2018-08-07 07:40:00   $1755267.00\n",
      " 2018-08-07 09:22:00   $1754900.00\n",
      " 2018-08-07 11:06:00   $1752904.00\n",
      " 2018-08-07 12:48:00   $1751298.00\n",
      " 2018-08-07 14:38:00   $1748111.00\n",
      " 2018-08-07 15:34:00   $1748952.00\n",
      " 2018-08-07 17:18:00   $1748800.00\n",
      " 2018-08-07 18:12:00   $1752088.00\n",
      " 2018-08-07 20:26:00   $1753351.00\n",
      " 2018-08-07 23:18:00   $1758461.00\n",
      " 2018-08-08 01:04:00   $1762262.00\n",
      " 2018-08-08 01:52:00   $1763648.00\n",
      " 2018-08-08 03:44:00   $1766556.00\n",
      " 2018-08-08 05:30:00   $1767052.00\n",
      " 2018-08-08 06:24:00   $1769433.00\n",
      " 2018-08-08 08:06:00   $1768612.00\n",
      " 2018-08-08 09:52:00   $1768373.00\n",
      " 2018-08-08 11:36:00   $1766372.00\n",
      " 2018-08-08 12:24:00   $1764779.00\n",
      " 2018-08-08 14:08:00   $1763075.00\n",
      " 2018-08-08 16:44:00   $1762281.00\n",
      " 2018-08-08 19:12:00   $1765236.00\n",
      " 2018-08-08 21:44:00   $1769823.00\n",
      " 2018-08-08 23:24:00   $1770770.00\n",
      " 2018-08-09 01:02:00   $1775712.00\n",
      " 2018-08-09 01:56:00   $1776127.00\n",
      " 2018-08-09 03:32:00   $1779156.00\n",
      " 2018-08-09 05:12:00   $1779055.00\n",
      " 2018-08-09 06:52:00   $1781261.00\n",
      " 2018-08-09 08:32:00   $1780328.00\n",
      " 2018-08-09 09:24:00   $1779774.00\n",
      " 2018-08-09 11:04:00   $1777647.00\n",
      " 2018-08-09 12:46:00   $1775637.00\n",
      " 2018-08-09 14:36:00   $1773415.00\n",
      " 2018-08-09 17:20:00   $1772125.00\n",
      " 2018-08-09 21:28:00   $1779801.00\n",
      " 2018-08-10 00:16:00   $1784490.00\n",
      " 2018-08-10 01:34:00   $1784971.00\n",
      " 2018-08-10 03:14:00   $1787564.00\n",
      " 2018-08-10 04:54:00   $1787843.00\n",
      " 2018-08-10 06:34:00   $1789227.00\n",
      " 2018-08-10 08:16:00   $1787873.00\n",
      " 2018-08-10 09:52:00   $1786732.00\n",
      " 2018-08-10 12:12:00   $1782916.00\n",
      " 2018-08-10 13:56:00   $1780575.00\n",
      " 2018-08-10 15:40:00   $1779711.00\n",
      " 2018-08-10 17:20:00   $1779172.00\n",
      " 2018-08-10 19:52:00   $1782310.00\n",
      " 2018-08-10 21:32:00   $1786208.00\n",
      " 2018-08-10 23:28:00   $1786795.00\n",
      " 2018-08-11 00:52:00   $1790229.00\n",
      " 2018-08-11 01:40:00   $1790456.00\n",
      " 2018-08-11 04:34:00   $1792345.00\n",
      " 2018-08-11 05:28:00   $1791817.00\n",
      " 2018-08-11 06:56:00   $1792695.00\n",
      " 2018-08-11 07:46:00   $1791375.00\n",
      " 2018-08-11 09:40:00   $1790066.00\n",
      " 2018-08-11 11:12:00   $1787815.00\n",
      " 2018-08-11 12:52:00   $1785517.00\n",
      " 2018-08-11 14:42:00   $1781861.00\n",
      " 2018-08-11 15:36:00   $1781491.00\n",
      " 2018-08-11 17:16:00   $1780214.00\n",
      " 2018-08-11 19:00:00   $1781786.00\n",
      " 2018-08-11 19:44:00   $1781410.00\n",
      " 2018-08-11 21:24:00   $1784274.00\n",
      " 2018-08-11 23:04:00   $1784575.00\n",
      " 2018-08-12 00:44:00   $1787108.00\n",
      " 2018-08-12 02:26:00   $1787041.00\n",
      " 2018-08-12 04:04:00   $1789073.00\n",
      " 2018-08-12 04:54:00   $1788734.00\n",
      " 2018-08-12 06:36:00   $1789965.00\n",
      " 2018-08-12 08:14:00   $1788789.00\n",
      " 2018-08-12 09:54:00   $1787631.00\n",
      " 2018-08-12 11:40:00   $1785349.00\n",
      " 2018-08-12 12:30:00   $1782848.00\n",
      " 2018-08-12 14:10:00   $1780636.00\n",
      " 2018-08-12 15:52:00   $1779311.00\n",
      " 2018-08-12 17:28:00   $1777711.00\n",
      " 2018-08-12 18:20:00   $1778893.00\n",
      " 2018-08-12 20:02:00   $1778806.00\n",
      " 2018-08-12 21:38:00   $1780984.00\n",
      " 2018-08-12 23:18:00   $1781169.00\n",
      " 2018-08-13 00:08:00   $1784373.00\n",
      " 2018-08-13 01:52:00   $1784433.00\n",
      " 2018-08-13 03:28:00   $1787403.00\n",
      " 2018-08-13 05:08:00   $1787460.00\n",
      " 2018-08-13 06:52:00   $1789481.00\n",
      " 2018-08-13 07:40:00   $1788777.00\n"
     ]
    },
    {
     "data": {
      "image/png": "[encoded data removed]",
      "text/plain": [
       "<Figure size 432x288 with 1 Axes>"
      ]
     },
     "metadata": {
      "needs_background": "light"
     },
     "output_type": "display_data"
    }
   ],
   "source": [
    "# Access new price history and associated time data\n",
    "newprice = book_data[0]['data']['SALES']\n",
    "newpricetime = book_data[0]['data']['SALES_time']\n",
    "\n",
    "plt.step(newpricetime[1000:1500], newprice[1000:1500])\n",
    "\n",
    "# print the first 10 prices\n",
    "#print('%20s   %s' % ('Date', 'Price'))\n",
    "for i in range(1000,1500):\n",
    "    print('%20s   $%.2f' % (newpricetime[i], newprice[i]))"
   ]
  },
  {
   "cell_type": "code",
   "execution_count": null,
   "metadata": {},
   "outputs": [],
   "source": [
    "two_yrs_ago = datetime.datetime.now() - relativedelta(years=2)\n",
    "prices_sold_at = []\n",
    "for book in range(len(book_data)) :\n",
    "    last_two_years = book_data[book]['data']['SALES_time'] > two_yrs_ago\n",
    "    for day in np.where(last_two_years) :\n",
    "        "
   ]
  },
  {
   "cell_type": "code",
   "execution_count": 86,
   "metadata": {},
   "outputs": [
    {
     "ename": "ValueError",
     "evalue": "The truth value of an array with more than one element is ambiguous. Use a.any() or a.all()",
     "output_type": "error",
     "traceback": [
      "\u001b[0;31m---------------------------------------------------------------------------\u001b[0m",
      "\u001b[0;31mValueError\u001b[0m                                Traceback (most recent call last)",
      "\u001b[0;32m<ipython-input-86-ee5150628660>\u001b[0m in \u001b[0;36m<module>\u001b[0;34m\u001b[0m\n\u001b[1;32m      6\u001b[0m     if ((book_data[0]['data']['SALES'][day] - \n\u001b[1;32m      7\u001b[0m         book_data[0]['data']['SALES'][day - 1]) / \n\u001b[0;32m----> 8\u001b[0;31m         (book_data[0]['data']['SALES'][day]) >= .02) :\n\u001b[0m\u001b[1;32m      9\u001b[0m         \u001b[0mday_sold\u001b[0m \u001b[0;34m=\u001b[0m \u001b[0mbook_data\u001b[0m\u001b[0;34m[\u001b[0m\u001b[0;36m0\u001b[0m\u001b[0;34m]\u001b[0m\u001b[0;34m[\u001b[0m\u001b[0;34m'data'\u001b[0m\u001b[0;34m]\u001b[0m\u001b[0;34m[\u001b[0m\u001b[0;34m'SALES_time'\u001b[0m\u001b[0;34m]\u001b[0m\u001b[0;34m[\u001b[0m\u001b[0mday\u001b[0m\u001b[0;34m]\u001b[0m \u001b[0;34m-\u001b[0m \u001b[0mdatetime\u001b[0m\u001b[0;34m.\u001b[0m\u001b[0mtimedelta\u001b[0m\u001b[0;34m(\u001b[0m\u001b[0mdays\u001b[0m\u001b[0;34m=\u001b[0m\u001b[0;36m1\u001b[0m\u001b[0;34m)\u001b[0m\u001b[0;34m\u001b[0m\u001b[0;34m\u001b[0m\u001b[0m\n\u001b[1;32m     10\u001b[0m         \u001b[0mday_sold_index\u001b[0m \u001b[0;34m=\u001b[0m \u001b[0mbook_data\u001b[0m\u001b[0;34m[\u001b[0m\u001b[0;36m0\u001b[0m\u001b[0;34m]\u001b[0m\u001b[0;34m[\u001b[0m\u001b[0;34m'data'\u001b[0m\u001b[0;34m]\u001b[0m\u001b[0;34m[\u001b[0m\u001b[0;34m'USED_time'\u001b[0m\u001b[0;34m]\u001b[0m\u001b[0;34m[\u001b[0m\u001b[0mday_sold\u001b[0m\u001b[0;34m.\u001b[0m\u001b[0mdate\u001b[0m\u001b[0;34m(\u001b[0m\u001b[0;34m)\u001b[0m\u001b[0;34m]\u001b[0m\u001b[0;34m\u001b[0m\u001b[0;34m\u001b[0m\u001b[0m\n",
      "\u001b[0;31mValueError\u001b[0m: The truth value of an array with more than one element is ambiguous. Use a.any() or a.all()"
     ]
    }
   ],
   "source": [
    "two_yrs_ago = datetime.datetime.now() - relativedelta(years=2)\n",
    "prices_sold_at = []\n",
    "last_two_years = book_data[0]['data']['SALES_time'] > two_yrs_ago\n",
    "book_data[0]['data']['SALES_time'][np.where(last_two_years)] #- datetime.timedelta(days=1)\n",
    "for day in np.where(last_two_years) :\n",
    "    if ((book_data[0]['data']['SALES'][day] - \n",
    "        book_data[0]['data']['SALES'][day - 1]) / \n",
    "        (book_data[0]['data']['SALES'][day]) >= .02) :\n",
    "        day_sold = book_data[0]['data']['SALES_time'][day] - datetime.timedelta(days=1)\n",
    "        day_sold_index = book_data[0]['data']['USED_time'][day_sold.date()]\n",
    "        prices_sold_at.append(book_data[0]['data']['USED'][day_sold_index])\n",
    "        #min(DTlist,key=lambda date : abs(dt-date))\n",
    "# - datetime.timedelta(days=1)"
   ]
  },
  {
   "cell_type": "code",
   "execution_count": 85,
   "metadata": {},
   "outputs": [
    {
     "data": {
      "text/plain": [
       "datetime.date(2018, 4, 29)"
      ]
     },
     "execution_count": 85,
     "metadata": {},
     "output_type": "execute_result"
    }
   ],
   "source": [
    "book_data[0]['data']['SALES_time'][np.where(last_two_years)][0].date()"
   ]
  },
  {
   "cell_type": "code",
   "execution_count": 59,
   "metadata": {},
   "outputs": [
    {
     "data": {
      "text/plain": [
       "['1118059816',\n",
       " '0130420166',\n",
       " '0195178777',\n",
       " '1592801986',\n",
       " '1413018793',\n",
       " '0870335057',\n",
       " '094172803X',\n",
       " '1859848907',\n",
       " '031624967X',\n",
       " '1563475634']"
      ]
     },
     "execution_count": 59,
     "metadata": {},
     "output_type": "execute_result"
    }
   ],
   "source": []
  },
  {
   "cell_type": "code",
   "execution_count": 60,
   "metadata": {},
   "outputs": [
    {
     "name": "stderr",
     "output_type": "stream",
     "text": [
      "100%|██████████| 10/10 [00:05<00:00,  1.79it/s]\n"
     ]
    }
   ],
   "source": [
    "book_data = api.query(test[:10])"
   ]
  },
  {
   "cell_type": "code",
   "execution_count": 29,
   "metadata": {},
   "outputs": [
    {
     "data": {
      "text/plain": [
       "True"
      ]
     },
     "execution_count": 29,
     "metadata": {},
     "output_type": "execute_result"
    }
   ],
   "source": [
    "2 year sales rank average \n",
    "sales rank average for selected dates\n",
    "\n",
    "vv these two can try using and see if it improves the model. Can also switch them out for new price\n",
    "average list price for selected dates\n",
    "current list price\n",
    "\n",
    "current used price\n",
    "used avg for selected dates\n",
    "\n",
    "(can later factor in used offer count)"
   ]
  },
  {
   "cell_type": "code",
   "execution_count": 61,
   "metadata": {},
   "outputs": [],
   "source": [
    "# look at how the used price now compares to the used price normally\n",
    "#valuation = pd.DataFrame()\n",
    "diffs = {2018 : [], 2019 : []}\n",
    "sales = {2018 : [], 2019 : []}\n",
    "years = [2018,2019]\n",
    "diff_avg = []\n",
    "sales_avg = []\n",
    "for book in range(len(book_data)) :\n",
    "    used_current = book_data[book]['data']['USED'][-1]\n",
    "    for year in years :\n",
    "        start = book_data[book]['data']['USED_time'] > datetime.datetime(year, 8, 15, 0, 0)\n",
    "        end = book_data[book]['data']['USED_time'] < datetime.datetime(year, 9, 16, 0, 0)\n",
    "        high_tide = np.where(start & end)\n",
    "        diff = (np.average(book_data[book]['data']['USED'][high_tide]) - used_current) / used_current\n",
    "        diffs[year].append(diff)\n",
    "        \n",
    "        start = book_data[book]['data']['SALES_time'] > datetime.datetime(year, 8, 15, 0, 0)\n",
    "        end = book_data[book]['data']['SALES_time'] < datetime.datetime(year, 9, 16, 0, 0)\n",
    "        high_tide = np.where(start & end)\n",
    "        sales[year].append(np.average(book_data[book]['data']['SALES'][high_tide]))\n",
    "    diff_avg.append(np.average([diffs[2018][book],diffs[2019][book]], weights=[.4,.6]))\n",
    "    sales_avg.append(np.average([diffs[2018][book],diffs[2019][book]]))"
   ]
  },
  {
   "cell_type": "code",
   "execution_count": 62,
   "metadata": {},
   "outputs": [],
   "source": [
    "# look at the 2 year sales rank average\n",
    "two_yrs_ago = datetime.datetime.now() - relativedelta(years=2)\n",
    "two_yr_sales_avg = []\n",
    "for book in range(len(book_data)) :\n",
    "    within_2yrs = book_data[book]['data']['SALES_time'] > two_yrs_ago\n",
    "    two_yr_sales_avg.append(np.average(book_data[book]['data']['SALES'][within_2yrs]))"
   ]
  },
  {
   "cell_type": "code",
   "execution_count": 63,
   "metadata": {},
   "outputs": [
    {
     "data": {
      "text/plain": [
       "[7.794544061302682,\n",
       " 2.9476121562952247,\n",
       " 12.605944391179293,\n",
       " 12.136442141623487,\n",
       " 1.7423847926267286,\n",
       " -0.02074380165289258,\n",
       " nan,\n",
       " 33.48574444848927,\n",
       " 1.6946377728566904,\n",
       " 4.314431818181818]"
      ]
     },
     "execution_count": 63,
     "metadata": {},
     "output_type": "execute_result"
    }
   ],
   "source": [
    "diff_avg"
   ]
  },
  {
   "cell_type": "code",
   "execution_count": 65,
   "metadata": {},
   "outputs": [
    {
     "data": {
      "text/plain": [
       "'1859848907'"
      ]
     },
     "execution_count": 65,
     "metadata": {},
     "output_type": "execute_result"
    }
   ],
   "source": []
  },
  {
   "cell_type": "code",
   "execution_count": 24,
   "metadata": {},
   "outputs": [
    {
     "data": {
      "text/plain": [
       "12"
      ]
     },
     "execution_count": 24,
     "metadata": {},
     "output_type": "execute_result"
    }
   ],
   "source": [
    "# give each book a score\n",
    "weights = [sales = .0000031, two_yr = .000001, diffs = 50]\n",
    "scores = []\n",
    "for book in range(len(book_data)) :\n",
    "    metrics = [sales_avg[book], two_yr_sales_avg[book], diff_avg[book]]\n",
    "    scores.append(np.dot(metrics, weights))"
   ]
  },
  {
   "cell_type": "code",
   "execution_count": null,
   "metadata": {},
   "outputs": [],
   "source": [
    "### long term project thoughts - can include 'isEligibleForSuperSaverShipping' if that would make a difference"
   ]
  }
 ],
 "metadata": {
  "kernelspec": {
   "display_name": "Python 3",
   "language": "python",
   "name": "python3"
  },
  "language_info": {
   "codemirror_mode": {
    "name": "ipython",
    "version": 3
   },
   "file_extension": ".py",
   "mimetype": "text/x-python",
   "name": "python",
   "nbconvert_exporter": "python",
   "pygments_lexer": "ipython3",
   "version": "3.6.9"
  }
 },
 "nbformat": 4,
 "nbformat_minor": 4
}
